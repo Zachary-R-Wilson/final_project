{
 "cells": [
  {
   "cell_type": "code",
   "execution_count": 1,
   "metadata": {},
   "outputs": [],
   "source": [
    "import pandas as pd"
   ]
  },
  {
   "cell_type": "code",
   "execution_count": 2,
   "metadata": {},
   "outputs": [],
   "source": [
    "income = pd.read_csv(\"Resources/income_in_topeka.csv\")"
   ]
  },
  {
   "cell_type": "code",
   "execution_count": 4,
   "metadata": {},
   "outputs": [],
   "source": [
    "places = pd.read_csv(\"Resources/master.csv\")"
   ]
  },
  {
   "cell_type": "code",
   "execution_count": null,
   "metadata": {},
   "outputs": [],
   "source": [
    "print(places)"
   ]
  },
  {
   "cell_type": "code",
   "execution_count": 6,
   "metadata": {},
   "outputs": [
    {
     "name": "stdout",
     "output_type": "stream",
     "text": [
      "    ID Year  Year  ID Race   Race  Household Income by Race  \\\n",
      "0      2017  2017        0  Total                     46838   \n",
      "1      2017  2017        0  Total                     48500   \n",
      "2      2017  2017        0  Total                     24322   \n",
      "3      2017  2017        0  Total                     55101   \n",
      "4      2017  2017        0  Total                     58942   \n",
      "5      2017  2017        0  Total                     25489   \n",
      "6      2017  2017        0  Total                     18559   \n",
      "7      2017  2017        0  Total                     49722   \n",
      "8      2017  2017        0  Total                     34345   \n",
      "9      2017  2017        0  Total                     26000   \n",
      "10     2017  2017        0  Total                     83717   \n",
      "11     2017  2017        0  Total                     50227   \n",
      "12     2017  2017        0  Total                     40542   \n",
      "13     2017  2017        0  Total                     47500   \n",
      "14     2017  2017        0  Total                     35343   \n",
      "15     2017  2017        0  Total                     33229   \n",
      "16     2017  2017        0  Total                     75455   \n",
      "17     2017  2017        0  Total                     41329   \n",
      "18     2017  2017        0  Total                     39167   \n",
      "19     2017  2017        0  Total                     35940   \n",
      "20     2017  2017        0  Total                     63638   \n",
      "21     2017  2017        0  Total                     50658   \n",
      "22     2017  2017        0  Total                     39922   \n",
      "23     2017  2017        0  Total                     71343   \n",
      "24     2017  2017        0  Total                     45369   \n",
      "25     2017  2017        0  Total                     28962   \n",
      "26     2017  2017        0  Total                     88942   \n",
      "27     2017  2017        0  Total                     64808   \n",
      "28     2017  2017        0  Total                     36297   \n",
      "29     2017  2017        0  Total                     37244   \n",
      "30     2017  2017        0  Total                     65731   \n",
      "31     2017  2017        0  Total                     49770   \n",
      "32     2017  2017        0  Total                     38750   \n",
      "33     2017  2017        0  Total                     65000   \n",
      "34     2017  2017        0  Total                     56667   \n",
      "35     2017  2017        0  Total                     41660   \n",
      "36     2017  2017        0  Total                     95430   \n",
      "37     2017  2017        0  Total                     30675   \n",
      "38     2017  2017        0  Total                     84318   \n",
      "\n",
      "    Household Income by Race Moe                               Geography  \\\n",
      "0                         6268.0  Census Tract 16.01, Shawnee County, KS   \n",
      "1                         7503.0     Census Tract 41, Shawnee County, KS   \n",
      "2                         4392.0      Census Tract 4, Shawnee County, KS   \n",
      "3                         7072.0  Census Tract 27.01, Shawnee County, KS   \n",
      "4                         9373.0  Census Tract 27.02, Shawnee County, KS   \n",
      "5                         5490.0      Census Tract 5, Shawnee County, KS   \n",
      "6                         8968.0     Census Tract 40, Shawnee County, KS   \n",
      "7                         8548.0  Census Tract 26.02, Shawnee County, KS   \n",
      "8                         2946.0     Census Tract 28, Shawnee County, KS   \n",
      "9                         5138.0      Census Tract 6, Shawnee County, KS   \n",
      "10                        9687.0  Census Tract 39.02, Shawnee County, KS   \n",
      "11                        8832.0  Census Tract 26.01, Shawnee County, KS   \n",
      "12                        6260.0      Census Tract 7, Shawnee County, KS   \n",
      "13                        6281.0     Census Tract 25, Shawnee County, KS   \n",
      "14                        7613.0     Census Tract 29, Shawnee County, KS   \n",
      "15                       10310.0      Census Tract 8, Shawnee County, KS   \n",
      "16                       12813.0  Census Tract 39.01, Shawnee County, KS   \n",
      "17                        6615.0     Census Tract 24, Shawnee County, KS   \n",
      "18                       12030.0  Census Tract 30.01, Shawnee County, KS   \n",
      "19                        5863.0      Census Tract 9, Shawnee County, KS   \n",
      "20                        5179.0     Census Tract 37, Shawnee County, KS   \n",
      "21                        8233.0     Census Tract 22, Shawnee County, KS   \n",
      "22                        6527.0     Census Tract 10, Shawnee County, KS   \n",
      "23                        6033.0  Census Tract 30.02, Shawnee County, KS   \n",
      "24                        6993.0     Census Tract 21, Shawnee County, KS   \n",
      "25                        5493.0     Census Tract 11, Shawnee County, KS   \n",
      "26                       10971.0  Census Tract 36.07, Shawnee County, KS   \n",
      "27                        9625.0     Census Tract 19, Shawnee County, KS   \n",
      "28                        7186.0     Census Tract 31, Shawnee County, KS   \n",
      "29                        8913.0     Census Tract 12, Shawnee County, KS   \n",
      "30                        7363.0  Census Tract 36.06, Shawnee County, KS   \n",
      "31                        6122.0     Census Tract 18, Shawnee County, KS   \n",
      "32                       13186.0     Census Tract 13, Shawnee County, KS   \n",
      "33                       10145.0  Census Tract 33.01, Shawnee County, KS   \n",
      "34                        8236.0  Census Tract 16.04, Shawnee County, KS   \n",
      "35                        5012.0     Census Tract 15, Shawnee County, KS   \n",
      "36                        9770.0  Census Tract 36.05, Shawnee County, KS   \n",
      "37                        6426.0  Census Tract 16.03, Shawnee County, KS   \n",
      "38                        8926.0     Census Tract 34, Shawnee County, KS   \n",
      "\n",
      "          ID Geography  \n",
      "0   14000US20177001601  \n",
      "1   14000US20177004100  \n",
      "2   14000US20177000400  \n",
      "3   14000US20177002701  \n",
      "4   14000US20177002702  \n",
      "5   14000US20177000500  \n",
      "6   14000US20177004000  \n",
      "7   14000US20177002602  \n",
      "8   14000US20177002800  \n",
      "9   14000US20177000600  \n",
      "10  14000US20177003902  \n",
      "11  14000US20177002601  \n",
      "12  14000US20177000700  \n",
      "13  14000US20177002500  \n",
      "14  14000US20177002900  \n",
      "15  14000US20177000800  \n",
      "16  14000US20177003901  \n",
      "17  14000US20177002400  \n",
      "18  14000US20177003001  \n",
      "19  14000US20177000900  \n",
      "20  14000US20177003700  \n",
      "21  14000US20177002200  \n",
      "22  14000US20177001000  \n",
      "23  14000US20177003002  \n",
      "24  14000US20177002100  \n",
      "25  14000US20177001100  \n",
      "26  14000US20177003607  \n",
      "27  14000US20177001900  \n",
      "28  14000US20177003100  \n",
      "29  14000US20177001200  \n",
      "30  14000US20177003606  \n",
      "31  14000US20177001800  \n",
      "32  14000US20177001300  \n",
      "33  14000US20177003301  \n",
      "34  14000US20177001604  \n",
      "35  14000US20177001500  \n",
      "36  14000US20177003605  \n",
      "37  14000US20177001603  \n",
      "38  14000US20177003400  \n"
     ]
    }
   ],
   "source": [
    "print(income)"
   ]
  },
  {
   "cell_type": "code",
   "execution_count": null,
   "metadata": {},
   "outputs": [],
   "source": []
  }
 ],
 "metadata": {
  "kernelspec": {
   "display_name": "Python [conda env:PythonData] *",
   "language": "python",
   "name": "conda-env-PythonData-py"
  },
  "language_info": {
   "codemirror_mode": {
    "name": "ipython",
    "version": 3
   },
   "file_extension": ".py",
   "mimetype": "text/x-python",
   "name": "python",
   "nbconvert_exporter": "python",
   "pygments_lexer": "ipython3",
   "version": "3.6.10"
  }
 },
 "nbformat": 4,
 "nbformat_minor": 2
}
