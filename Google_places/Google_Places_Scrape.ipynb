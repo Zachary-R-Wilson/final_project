{
 "cells": [
  {
   "cell_type": "code",
   "execution_count": 68,
   "metadata": {},
   "outputs": [],
   "source": [
    "# Dependencies\n",
    "import requests, json\n",
    "import pandas as pd\n",
    "import time\n",
    "# Google developer API key\n",
    "#from ba_config import g_key\n",
    "from zw_config import g_key"
   ]
  },
  {
   "cell_type": "code",
   "execution_count": 69,
   "metadata": {},
   "outputs": [],
   "source": [
    "#constants\n",
    "target_url = \"https://maps.googleapis.com/maps/api/place/nearbysearch/json\"\n",
    "\n",
    "query = [\"food bank\", \"food pantry\", \"bakery\", \"grocery store\", \"restaurant\", \"dollar general\", \n",
    "         \"family dollar\", \"dollar tree\", \"department store\"]\n",
    "\n",
    "types = [\"bakery\",\"bank\",\"bar\",\"cafe\",\"convenience_store\",\"department_store\",\n",
    "         \"drugstore\",\"home_goods_store\",\"restaurant\",\"store\",\"supermarket\",\"liquor_store\"]\n",
    "\n",
    "ori_lat = 39.108452\n",
    "ori_lon = -95.816615\n",
    "\n",
    "end_lat = 38.913316\n",
    "end_lon = -95.594971"
   ]
  },
  {
   "cell_type": "code",
   "execution_count": 70,
   "metadata": {},
   "outputs": [],
   "source": [
    "#create the main dataframe\n",
    "names = []\n",
    "addresses = []\n",
    "lats = []\n",
    "lngs = []\n",
    "\n",
    "dfull = pd.DataFrame({\n",
    "    \"Name\": names,\n",
    "    \"Address\": addresses,\n",
    "    \"Latitude\": lats,\n",
    "    \"Longitude\": lngs,\n",
    "})"
   ]
  },
  {
   "cell_type": "code",
   "execution_count": 71,
   "metadata": {},
   "outputs": [
    {
     "name": "stdout",
     "output_type": "stream",
     "text": [
      "PROCESSING\n",
      "PROCESSING\n",
      "PROCESSING\n",
      "PROCESSING\n",
      "PROCESSING\n",
      "PROCESSING\n",
      "PROCESSING\n",
      "PROCESSING\n",
      "PROCESSING\n",
      "PROCESSING\n",
      "PROCESSING\n",
      "PROCESSING\n",
      "PROCESSING\n",
      "PROCESSING\n",
      "PROCESSING\n",
      "PROCESSING\n",
      "PROCESSING\n",
      "PROCESSING\n",
      "PROCESSING\n",
      "PROCESSING\n",
      "PROCESSING\n",
      "PROCESSING\n",
      "PROCESSING\n"
     ]
    }
   ],
   "source": [
    "var_lat = ori_lat\n",
    "while ori_lon < end_lon:\n",
    "    #create params\n",
    "    params = {\n",
    "        \"location\":str(var_lat) + \",\" + str(ori_lon),\n",
    "        \"radius\":805,\n",
    "        \"type\": types[11],\n",
    "        \"key\": g_key\n",
    "    }\n",
    "    #generate & send request\n",
    "    response = requests.get(target_url, params)\n",
    "    food_response = response.json()\n",
    "    #empty old lists\n",
    "    names = []\n",
    "    addresses = []\n",
    "    lats = []\n",
    "    lngs = []\n",
    "    #create filler dataframe\n",
    "    for food_response in food_response[\"results\"]:\n",
    "        names.append(food_response[\"name\"])\n",
    "        addresses.append(food_response[\"vicinity\"])\n",
    "        lats.append(food_response[\"geometry\"][\"location\"][\"lat\"])\n",
    "        lngs.append(food_response[\"geometry\"][\"location\"][\"lng\"])\n",
    "    #complete df\n",
    "    df = pd.DataFrame({\n",
    "        \"Name\": names,\n",
    "        \"Address\": addresses,\n",
    "        \"Latitude\": lats,\n",
    "        \"Longitude\": lngs\n",
    "    }) \n",
    "    #push to main dataframe\n",
    "    dfull = dfull.append(df, ignore_index=True)\n",
    "    #pause for a second so google doesn't charge me\n",
    "    time.sleep(1)\n",
    "    #increase the var_lat\n",
    "    var_lat -= .01\n",
    "    if var_lat <= 38.91:\n",
    "        ori_lon += .01\n",
    "        var_lat = ori_lat\n",
    "        print(\"PROCESSING\")"
   ]
  },
  {
   "cell_type": "code",
   "execution_count": 72,
   "metadata": {
    "scrolled": false
   },
   "outputs": [],
   "source": [
    "dfull.to_csv(str(types[11])+\".csv\")"
   ]
  },
  {
   "cell_type": "code",
   "execution_count": null,
   "metadata": {},
   "outputs": [],
   "source": []
  }
 ],
 "metadata": {
  "kernelspec": {
   "display_name": "Python 3",
   "language": "python",
   "name": "python3"
  },
  "language_info": {
   "codemirror_mode": {
    "name": "ipython",
    "version": 3
   },
   "file_extension": ".py",
   "mimetype": "text/x-python",
   "name": "python",
   "nbconvert_exporter": "python",
   "pygments_lexer": "ipython3",
   "version": "3.8.2"
  }
 },
 "nbformat": 4,
 "nbformat_minor": 2
}
